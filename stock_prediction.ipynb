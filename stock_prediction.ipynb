{
 "cells": [
  {
   "cell_type": "code",
   "execution_count": 1,
   "metadata": {
    "pycharm": {
     "is_executing": false
    }
   },
   "outputs": [],
   "source": [
    "import pandas as pd\n",
    "from sklearn.preprocessing import MinMaxScaler\n",
    "import numpy as np\n",
    "import matplotlib.pyplot as plt"
   ]
  },
  {
   "cell_type": "code",
   "execution_count": 2,
   "metadata": {},
   "outputs": [],
   "source": [
    "history_points = 50"
   ]
  },
  {
   "cell_type": "code",
   "execution_count": 5,
   "metadata": {
    "pycharm": {
     "name": "#%%\n"
    }
   },
   "outputs": [],
   "source": [
    "def csv_to_dataset(path):\n",
    "    global features_col\n",
    "    features_col = []\n",
    "    data = pd.read_csv(path)\n",
    "    data = data.drop('Date', axis=1)\n",
    "    cols = data.columns\n",
    "\n",
    "    unscaled_y = data['Close']\n",
    " \n",
    "    # 最大値を1, 最小値を０に変換\n",
    "    data_normaliser = MinMaxScaler()\n",
    "    data = data_normaliser.fit_transform(data)\n",
    "    data = pd.DataFrame(data, columns=cols)\n",
    "    data['raw_Close'] = unscaled_y\n",
    "    \n",
    "    \n",
    "    def calc_ema(data, time_period):\n",
    "        global features_col\n",
    "        k = 2 / (1 - time_period)\n",
    "        data['SMA'] = data['Close'].rolling(time_period).mean()\n",
    "        data['EMA'] = data['Close'] * k +data['SMA'].shift(1) * (1 - k)\n",
    "        data[['lag_1_SMA', 'lag_1_EMA']] = data[['SMA', 'EMA']].shift(1)\n",
    "        features_col.append('lag_1_SMA')\n",
    "        features_col.append('lag_1_EMA')\n",
    "        return data\n",
    "\n",
    "    \n",
    "    def histories_nomalized(data):\n",
    "        global features_col\n",
    "        for i in range(1, history_points+1):\n",
    "            for c in cols:\n",
    "                col = 'lag_{}_{}'.format(i,c)\n",
    "                data[col] = data[c].shift(i)\n",
    "                features_col.append(col)\n",
    "        return data\n",
    "    \n",
    "    \n",
    "    data = calc_ema(data, 3)\n",
    "    data = histories_nomalized(data)\n",
    "    data.dropna(inplace=True)\n",
    "    \n",
    "    y_normaliser = MinMaxScaler()\n",
    "    y_normaliser.fit(data['raw_Close'].values.reshape(-1,1))\n",
    "    return data, y_normaliser"
   ]
  },
  {
   "cell_type": "code",
   "execution_count": 6,
   "metadata": {},
   "outputs": [],
   "source": [
    "data, y_normaliser = csv_to_dataset('data/etf_4755.csv')"
   ]
  },
  {
   "cell_type": "code",
   "execution_count": 7,
   "metadata": {},
   "outputs": [
    {
     "data": {
      "text/html": [
       "<div>\n",
       "<style scoped>\n",
       "    .dataframe tbody tr th:only-of-type {\n",
       "        vertical-align: middle;\n",
       "    }\n",
       "\n",
       "    .dataframe tbody tr th {\n",
       "        vertical-align: top;\n",
       "    }\n",
       "\n",
       "    .dataframe thead th {\n",
       "        text-align: right;\n",
       "    }\n",
       "</style>\n",
       "<table border=\"1\" class=\"dataframe\">\n",
       "  <thead>\n",
       "    <tr style=\"text-align: right;\">\n",
       "      <th></th>\n",
       "      <th>Open</th>\n",
       "      <th>High</th>\n",
       "      <th>Low</th>\n",
       "      <th>Close</th>\n",
       "      <th>Volume</th>\n",
       "      <th>raw_Close</th>\n",
       "      <th>SMA</th>\n",
       "      <th>EMA</th>\n",
       "      <th>lag_1_SMA</th>\n",
       "      <th>lag_1_EMA</th>\n",
       "      <th>...</th>\n",
       "      <th>lag_49_Open</th>\n",
       "      <th>lag_49_High</th>\n",
       "      <th>lag_49_Low</th>\n",
       "      <th>lag_49_Close</th>\n",
       "      <th>lag_49_Volume</th>\n",
       "      <th>lag_50_Open</th>\n",
       "      <th>lag_50_High</th>\n",
       "      <th>lag_50_Low</th>\n",
       "      <th>lag_50_Close</th>\n",
       "      <th>lag_50_Volume</th>\n",
       "    </tr>\n",
       "  </thead>\n",
       "  <tbody>\n",
       "    <tr>\n",
       "      <th>50</th>\n",
       "      <td>0.833285</td>\n",
       "      <td>0.850470</td>\n",
       "      <td>0.840803</td>\n",
       "      <td>0.853456</td>\n",
       "      <td>0.031451</td>\n",
       "      <td>2110.5</td>\n",
       "      <td>0.841689</td>\n",
       "      <td>0.822407</td>\n",
       "      <td>0.837931</td>\n",
       "      <td>0.829526</td>\n",
       "      <td>...</td>\n",
       "      <td>0.573661</td>\n",
       "      <td>0.567274</td>\n",
       "      <td>0.566647</td>\n",
       "      <td>0.556215</td>\n",
       "      <td>0.039004</td>\n",
       "      <td>0.591317</td>\n",
       "      <td>0.589600</td>\n",
       "      <td>0.589639</td>\n",
       "      <td>0.599229</td>\n",
       "      <td>0.023849</td>\n",
       "    </tr>\n",
       "    <tr>\n",
       "      <th>51</th>\n",
       "      <td>0.858177</td>\n",
       "      <td>0.861340</td>\n",
       "      <td>0.844005</td>\n",
       "      <td>0.864729</td>\n",
       "      <td>0.101189</td>\n",
       "      <td>2129.5</td>\n",
       "      <td>0.850687</td>\n",
       "      <td>0.818649</td>\n",
       "      <td>0.841689</td>\n",
       "      <td>0.822407</td>\n",
       "      <td>...</td>\n",
       "      <td>0.544718</td>\n",
       "      <td>0.562280</td>\n",
       "      <td>0.556752</td>\n",
       "      <td>0.560368</td>\n",
       "      <td>0.050145</td>\n",
       "      <td>0.573661</td>\n",
       "      <td>0.567274</td>\n",
       "      <td>0.566647</td>\n",
       "      <td>0.556215</td>\n",
       "      <td>0.039004</td>\n",
       "    </tr>\n",
       "    <tr>\n",
       "      <th>52</th>\n",
       "      <td>0.869465</td>\n",
       "      <td>0.892479</td>\n",
       "      <td>0.836438</td>\n",
       "      <td>0.910412</td>\n",
       "      <td>0.117285</td>\n",
       "      <td>2206.5</td>\n",
       "      <td>0.876199</td>\n",
       "      <td>0.790962</td>\n",
       "      <td>0.850687</td>\n",
       "      <td>0.818649</td>\n",
       "      <td>...</td>\n",
       "      <td>0.570478</td>\n",
       "      <td>0.562573</td>\n",
       "      <td>0.574505</td>\n",
       "      <td>0.567191</td>\n",
       "      <td>0.026437</td>\n",
       "      <td>0.544718</td>\n",
       "      <td>0.562280</td>\n",
       "      <td>0.556752</td>\n",
       "      <td>0.560368</td>\n",
       "      <td>0.050145</td>\n",
       "    </tr>\n",
       "    <tr>\n",
       "      <th>53</th>\n",
       "      <td>0.890593</td>\n",
       "      <td>0.902468</td>\n",
       "      <td>0.891153</td>\n",
       "      <td>0.890537</td>\n",
       "      <td>0.070778</td>\n",
       "      <td>2173.0</td>\n",
       "      <td>0.888559</td>\n",
       "      <td>0.861861</td>\n",
       "      <td>0.876199</td>\n",
       "      <td>0.790962</td>\n",
       "      <td>...</td>\n",
       "      <td>0.567583</td>\n",
       "      <td>0.562280</td>\n",
       "      <td>0.578580</td>\n",
       "      <td>0.576090</td>\n",
       "      <td>0.025239</td>\n",
       "      <td>0.570478</td>\n",
       "      <td>0.562573</td>\n",
       "      <td>0.574505</td>\n",
       "      <td>0.567191</td>\n",
       "      <td>0.026437</td>\n",
       "    </tr>\n",
       "    <tr>\n",
       "      <th>54</th>\n",
       "      <td>0.876122</td>\n",
       "      <td>0.880435</td>\n",
       "      <td>0.883586</td>\n",
       "      <td>0.883714</td>\n",
       "      <td>0.035743</td>\n",
       "      <td>2161.5</td>\n",
       "      <td>0.894888</td>\n",
       "      <td>0.893405</td>\n",
       "      <td>0.888559</td>\n",
       "      <td>0.861861</td>\n",
       "      <td>...</td>\n",
       "      <td>0.564978</td>\n",
       "      <td>0.577262</td>\n",
       "      <td>0.562282</td>\n",
       "      <td>0.593889</td>\n",
       "      <td>0.055921</td>\n",
       "      <td>0.567583</td>\n",
       "      <td>0.562280</td>\n",
       "      <td>0.578580</td>\n",
       "      <td>0.576090</td>\n",
       "      <td>0.025239</td>\n",
       "    </tr>\n",
       "  </tbody>\n",
       "</table>\n",
       "<p>5 rows × 260 columns</p>\n",
       "</div>"
      ],
      "text/plain": [
       "        Open      High       Low     Close    Volume  raw_Close       SMA  \\\n",
       "50  0.833285  0.850470  0.840803  0.853456  0.031451     2110.5  0.841689   \n",
       "51  0.858177  0.861340  0.844005  0.864729  0.101189     2129.5  0.850687   \n",
       "52  0.869465  0.892479  0.836438  0.910412  0.117285     2206.5  0.876199   \n",
       "53  0.890593  0.902468  0.891153  0.890537  0.070778     2173.0  0.888559   \n",
       "54  0.876122  0.880435  0.883586  0.883714  0.035743     2161.5  0.894888   \n",
       "\n",
       "         EMA  lag_1_SMA  lag_1_EMA  ...  lag_49_Open  lag_49_High  lag_49_Low  \\\n",
       "50  0.822407   0.837931   0.829526  ...     0.573661     0.567274    0.566647   \n",
       "51  0.818649   0.841689   0.822407  ...     0.544718     0.562280    0.556752   \n",
       "52  0.790962   0.850687   0.818649  ...     0.570478     0.562573    0.574505   \n",
       "53  0.861861   0.876199   0.790962  ...     0.567583     0.562280    0.578580   \n",
       "54  0.893405   0.888559   0.861861  ...     0.564978     0.577262    0.562282   \n",
       "\n",
       "    lag_49_Close  lag_49_Volume  lag_50_Open  lag_50_High  lag_50_Low  \\\n",
       "50      0.556215       0.039004     0.591317     0.589600    0.589639   \n",
       "51      0.560368       0.050145     0.573661     0.567274    0.566647   \n",
       "52      0.567191       0.026437     0.544718     0.562280    0.556752   \n",
       "53      0.576090       0.025239     0.570478     0.562573    0.574505   \n",
       "54      0.593889       0.055921     0.567583     0.562280    0.578580   \n",
       "\n",
       "    lag_50_Close  lag_50_Volume  \n",
       "50      0.599229       0.023849  \n",
       "51      0.556215       0.039004  \n",
       "52      0.560368       0.050145  \n",
       "53      0.567191       0.026437  \n",
       "54      0.576090       0.025239  \n",
       "\n",
       "[5 rows x 260 columns]"
      ]
     },
     "execution_count": 7,
     "metadata": {},
     "output_type": "execute_result"
    }
   ],
   "source": [
    "data.head()"
   ]
  },
  {
   "cell_type": "code",
   "execution_count": 8,
   "metadata": {},
   "outputs": [
    {
     "name": "stderr",
     "output_type": "stream",
     "text": [
      "Using TensorFlow backend.\n"
     ]
    }
   ],
   "source": [
    "from keras.models import Sequential\n",
    "from keras.layers import LSTM, Dropout, Dense, Activation\n",
    "from keras.optimizers import Adam"
   ]
  },
  {
   "cell_type": "code",
   "execution_count": 9,
   "metadata": {},
   "outputs": [],
   "source": [
    "TRAIN_SIZE = 0.8\n",
    "N = int(data.shape[0]*TRAIN_SIZE)\n",
    "HIDEEN_LAYER = 50\n",
    "DROPOUT= 0.2\n",
    "BATCH_SIZE = 32\n",
    "EPOCHS=50\n",
    "VALIDATION_SPLIT = 0.1"
   ]
  },
  {
   "cell_type": "code",
   "execution_count": 10,
   "metadata": {},
   "outputs": [],
   "source": [
    "X_train = data[features_col][:N]\n",
    "y_train = data['Close'][:N]\n",
    "X_test = data[features_col][N:]\n",
    "y_test = data['Close'][N:]"
   ]
  },
  {
   "cell_type": "code",
   "execution_count": 11,
   "metadata": {},
   "outputs": [],
   "source": [
    "X_train = np.expand_dims(X_train, 2)\n",
    "X_test = np.expand_dims(X_test, 2)"
   ]
  },
  {
   "cell_type": "code",
   "execution_count": 12,
   "metadata": {},
   "outputs": [
    {
     "name": "stdout",
     "output_type": "stream",
     "text": [
      "WARNING:tensorflow:From /Users/oxyride/miniconda3/envs/machine-learning/lib/python3.7/site-packages/tensorflow_core/python/ops/resource_variable_ops.py:1630: calling BaseResourceVariable.__init__ (from tensorflow.python.ops.resource_variable_ops) with constraint is deprecated and will be removed in a future version.\n",
      "Instructions for updating:\n",
      "If using Keras pass *_constraint arguments to layers.\n"
     ]
    }
   ],
   "source": [
    "model = Sequential()\n",
    "model.add(LSTM(HIDEEN_LAYER, input_shape=(X_train.shape[1], 1)))\n",
    "model.add(Dropout(DROPOUT))\n",
    "model.add(Dense(20))\n",
    "model.add(Activation('relu'))\n",
    "model.add(Dropout(DROPOUT))\n",
    "model.add(Dense(64))\n",
    "model.add(Activation('sigmoid'))\n",
    "model.add(Dense(1))\n",
    "model.add(Activation('linear'))"
   ]
  },
  {
   "cell_type": "code",
   "execution_count": 13,
   "metadata": {},
   "outputs": [],
   "source": [
    "adam = Adam(lr=0.0005)"
   ]
  },
  {
   "cell_type": "code",
   "execution_count": 14,
   "metadata": {},
   "outputs": [],
   "source": [
    "model.compile(optimizer=adam, loss='mse')"
   ]
  },
  {
   "cell_type": "code",
   "execution_count": 15,
   "metadata": {},
   "outputs": [
    {
     "name": "stdout",
     "output_type": "stream",
     "text": [
      "WARNING:tensorflow:From /Users/oxyride/miniconda3/envs/machine-learning/lib/python3.7/site-packages/keras/backend/tensorflow_backend.py:422: The name tf.global_variables is deprecated. Please use tf.compat.v1.global_variables instead.\n",
      "\n",
      "Train on 896 samples, validate on 100 samples\n",
      "Epoch 1/50\n",
      "896/896 [==============================] - 20s 22ms/step - loss: 0.1530 - val_loss: 0.0651\n",
      "Epoch 2/50\n",
      "896/896 [==============================] - 15s 17ms/step - loss: 0.0575 - val_loss: 0.0614\n",
      "Epoch 3/50\n",
      "896/896 [==============================] - 15s 17ms/step - loss: 0.0484 - val_loss: 0.0396\n",
      "Epoch 4/50\n",
      "896/896 [==============================] - 16s 18ms/step - loss: 0.0352 - val_loss: 0.0047\n",
      "Epoch 5/50\n",
      "896/896 [==============================] - 16s 18ms/step - loss: 0.0186 - val_loss: 0.0056\n",
      "Epoch 6/50\n",
      "896/896 [==============================] - 15s 17ms/step - loss: 0.0170 - val_loss: 0.0089\n",
      "Epoch 7/50\n",
      "896/896 [==============================] - 15s 17ms/step - loss: 0.0141 - val_loss: 0.0068\n",
      "Epoch 8/50\n",
      "896/896 [==============================] - 16s 18ms/step - loss: 0.0149 - val_loss: 0.0070\n",
      "Epoch 9/50\n",
      "896/896 [==============================] - 15s 17ms/step - loss: 0.0120 - val_loss: 0.0042\n",
      "Epoch 10/50\n",
      "896/896 [==============================] - 16s 18ms/step - loss: 0.0123 - val_loss: 0.0048\n",
      "Epoch 11/50\n",
      "896/896 [==============================] - 15s 17ms/step - loss: 0.0119 - val_loss: 0.0048\n",
      "Epoch 12/50\n",
      "896/896 [==============================] - 15s 17ms/step - loss: 0.0107 - val_loss: 0.0044\n",
      "Epoch 13/50\n",
      "896/896 [==============================] - 16s 18ms/step - loss: 0.0113 - val_loss: 0.0052\n",
      "Epoch 14/50\n",
      "896/896 [==============================] - 15s 17ms/step - loss: 0.0108 - val_loss: 0.0050\n",
      "Epoch 15/50\n",
      "896/896 [==============================] - 15s 17ms/step - loss: 0.0106 - val_loss: 0.0052\n",
      "Epoch 16/50\n",
      "896/896 [==============================] - 15s 17ms/step - loss: 0.0106 - val_loss: 0.0062\n",
      "Epoch 17/50\n",
      "896/896 [==============================] - 15s 17ms/step - loss: 0.0119 - val_loss: 0.0112\n",
      "Epoch 18/50\n",
      "896/896 [==============================] - 18s 20ms/step - loss: 0.0131 - val_loss: 0.0050\n",
      "Epoch 19/50\n",
      "896/896 [==============================] - 19s 21ms/step - loss: 0.0107 - val_loss: 0.0053\n",
      "Epoch 20/50\n",
      "896/896 [==============================] - 19s 21ms/step - loss: 0.0111 - val_loss: 0.0130\n",
      "Epoch 21/50\n",
      "896/896 [==============================] - 19s 21ms/step - loss: 0.0097 - val_loss: 0.0052\n",
      "Epoch 22/50\n",
      "896/896 [==============================] - 17s 19ms/step - loss: 0.0134 - val_loss: 0.0066\n",
      "Epoch 23/50\n",
      "896/896 [==============================] - 15s 17ms/step - loss: 0.0114 - val_loss: 0.0052\n",
      "Epoch 24/50\n",
      "896/896 [==============================] - 15s 17ms/step - loss: 0.0101 - val_loss: 0.0043\n",
      "Epoch 25/50\n",
      "896/896 [==============================] - 15s 16ms/step - loss: 0.0096 - val_loss: 0.0046\n",
      "Epoch 26/50\n",
      "896/896 [==============================] - 17s 19ms/step - loss: 0.0092 - val_loss: 0.0071\n",
      "Epoch 27/50\n",
      "896/896 [==============================] - 17s 19ms/step - loss: 0.0096 - val_loss: 0.0040\n",
      "Epoch 28/50\n",
      "896/896 [==============================] - 16s 18ms/step - loss: 0.0101 - val_loss: 0.0126\n",
      "Epoch 29/50\n",
      "896/896 [==============================] - 17s 19ms/step - loss: 0.0112 - val_loss: 0.0049\n",
      "Epoch 30/50\n",
      "896/896 [==============================] - 14s 16ms/step - loss: 0.0362 - val_loss: 0.0105\n",
      "Epoch 31/50\n",
      "896/896 [==============================] - 14s 16ms/step - loss: 0.0308 - val_loss: 0.0061\n",
      "Epoch 32/50\n",
      "896/896 [==============================] - 14s 16ms/step - loss: 0.0244 - val_loss: 0.0064\n",
      "Epoch 33/50\n",
      "896/896 [==============================] - 14s 16ms/step - loss: 0.0231 - val_loss: 0.0054\n",
      "Epoch 34/50\n",
      "896/896 [==============================] - 14s 16ms/step - loss: 0.0235 - val_loss: 0.0062\n",
      "Epoch 35/50\n",
      "896/896 [==============================] - 14s 16ms/step - loss: 0.0226 - val_loss: 0.0049\n",
      "Epoch 36/50\n",
      "896/896 [==============================] - 19s 22ms/step - loss: 0.0207 - val_loss: 0.0036\n",
      "Epoch 37/50\n",
      "896/896 [==============================] - 15s 17ms/step - loss: 0.0235 - val_loss: 0.0136\n",
      "Epoch 38/50\n",
      "896/896 [==============================] - 15s 16ms/step - loss: 0.0209 - val_loss: 0.0050\n",
      "Epoch 39/50\n",
      "896/896 [==============================] - 15s 16ms/step - loss: 0.0119 - val_loss: 0.0044\n",
      "Epoch 40/50\n",
      "896/896 [==============================] - 14s 16ms/step - loss: 0.0205 - val_loss: 0.0137\n",
      "Epoch 41/50\n",
      "896/896 [==============================] - 14s 16ms/step - loss: 0.0172 - val_loss: 0.0147\n",
      "Epoch 42/50\n",
      "896/896 [==============================] - 14s 16ms/step - loss: 0.0153 - val_loss: 0.0118\n",
      "Epoch 43/50\n",
      "896/896 [==============================] - 14s 16ms/step - loss: 0.0149 - val_loss: 0.0138\n",
      "Epoch 44/50\n",
      "896/896 [==============================] - 14s 16ms/step - loss: 0.0139 - val_loss: 0.0092\n",
      "Epoch 45/50\n",
      "896/896 [==============================] - 14s 16ms/step - loss: 0.0130 - val_loss: 0.0073\n",
      "Epoch 46/50\n",
      "896/896 [==============================] - 14s 16ms/step - loss: 0.0131 - val_loss: 0.0086\n",
      "Epoch 47/50\n",
      "896/896 [==============================] - 15s 16ms/step - loss: 0.0133 - val_loss: 0.0066\n",
      "Epoch 48/50\n",
      "896/896 [==============================] - 15s 17ms/step - loss: 0.0123 - val_loss: 0.0045\n",
      "Epoch 49/50\n",
      "896/896 [==============================] - 15s 16ms/step - loss: 0.0117 - val_loss: 0.0042\n",
      "Epoch 50/50\n",
      "896/896 [==============================] - 14s 16ms/step - loss: 0.0108 - val_loss: 0.0051\n"
     ]
    },
    {
     "data": {
      "text/plain": [
       "<keras.callbacks.callbacks.History at 0x1a444a9a50>"
      ]
     },
     "execution_count": 15,
     "metadata": {},
     "output_type": "execute_result"
    }
   ],
   "source": [
    "model.fit(X_train, y_train, batch_size=BATCH_SIZE, epochs=EPOCHS, shuffle=True ,validation_split=VALIDATION_SPLIT)"
   ]
  },
  {
   "cell_type": "code",
   "execution_count": 16,
   "metadata": {},
   "outputs": [],
   "source": [
    "preds = model.predict(X_test)\n",
    "preds_unscaled = y_normaliser.inverse_transform(preds)"
   ]
  },
  {
   "cell_type": "code",
   "execution_count": 17,
   "metadata": {},
   "outputs": [],
   "source": [
    "y_test.reset_index(drop=True, inplace=True)\n",
    "y_test_unscaled = y_normaliser.inverse_transform(y_test.values.reshape(-1,1))"
   ]
  },
  {
   "cell_type": "code",
   "execution_count": 19,
   "metadata": {},
   "outputs": [
    {
     "data": {
      "text/plain": [
       "<matplotlib.legend.Legend at 0x1a4afa0810>"
      ]
     },
     "execution_count": 19,
     "metadata": {},
     "output_type": "execute_result"
    },
    {
     "data": {
      "image/png": "[encoded data removed]",
      "text/plain": [
       "<Figure size 720x360 with 1 Axes>"
      ]
     },
     "metadata": {
      "needs_background": "light"
     },
     "output_type": "display_data"
    }
   ],
   "source": [
    "plt.figure(figsize=(10,5))\n",
    "plt.plot(preds_unscaled, label='Predict')\n",
    "plt.plot(y_test_unscaled, label='Real')\n",
    "plt.legend()"
   ]
  },
  {
   "cell_type": "code",
   "execution_count": null,
   "metadata": {},
   "outputs": [],
   "source": []
  }
 ],
 "metadata": {
  "kernelspec": {
   "display_name": "Python 3",
   "language": "python",
   "name": "python3"
  },
  "language_info": {
   "codemirror_mode": {
    "name": "ipython",
    "version": 3
   },
   "file_extension": ".py",
   "mimetype": "text/x-python",
   "name": "python",
   "nbconvert_exporter": "python",
   "pygments_lexer": "ipython3",
   "version": "3.7.7"
  },
  "pycharm": {
   "stem_cell": {
    "cell_type": "raw",
    "source": [],
    "metadata": {
     "collapsed": false
    }
   }
  }
 },
 "nbformat": 4,
 "nbformat_minor": 1
}